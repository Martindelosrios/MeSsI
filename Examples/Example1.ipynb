{
 "cells": [
  {
   "cell_type": "markdown",
   "metadata": {},
   "source": [
    "# Example 1\n",
    "\n",
    "In this example we will show how to load a new dataset that will be used to train a ML model"
   ]
  },
  {
   "cell_type": "code",
   "execution_count": 1,
   "metadata": {},
   "outputs": [
    {
     "name": "stderr",
     "output_type": "stream",
     "text": [
      "Loading required package: randomForest\n",
      "randomForest 4.6-14\n",
      "Type rfNews() to see new features/changes/bug fixes.\n",
      "Loading required package: nortest\n",
      "Loading required package: cosmoFns\n",
      "Loading required package: mclust\n",
      "Package 'mclust' version 5.4.5\n",
      "Type 'citation(\"mclust\")' for citing this R package in publications.\n",
      "Loading required package: e1071\n",
      "Loading required package: beepr\n",
      "Loading required package: caret\n",
      "Loading required package: lattice\n",
      "Loading required package: ggplot2\n",
      "\n",
      "Attaching package: ‘ggplot2’\n",
      "\n",
      "The following object is masked from ‘package:randomForest’:\n",
      "\n",
      "    margin\n",
      "\n",
      "Loading required package: progress\n"
     ]
    },
    {
     "name": "stdout",
     "output_type": "stream",
     "text": [
      "[1] \"Welcome to MeSsI v2.0\"\n",
      "\n",
      "_________________________________111_¶1___________\n",
      "________________________________1¶¶¶¶¶¶¶¶1________\n",
      "_______________________________¶¶¶¶¶111¶¶¶¶¶1_____\n",
      "_______________________________¶¶¶¶¶¶¶¶¶¶¶¶¶1_____\n",
      "_______________________________¶¶¶¶¶¶¶1_1¶¶_______\n",
      "______________________________¶¶¶11¶____¶¶________\n",
      "________________________1¶¶¶1¶¶¶___¶1_1¶¶¶________\n",
      "_____________________1¶¶¶¶¶¶¶¶¶¶¶_¶¶¶¶¶___________\n",
      "___________________¶¶¶¶1_¶¶¶1¶1¶¶¶¶¶¶¶1___________\n",
      "_______________1¶¶¶¶¶¶¶111¶11111¶¶¶¶¶¶____________\n",
      "_____________¶¶¶¶___1¶¶¶¶¶¶11111¶¶¶¶¶1____________\n",
      "_____________¶¶__1¶¶1__¶¶111111111¶¶¶_____________\n",
      "_____________1¶1__¶¶___¶¶111111111¶¶______________\n",
      "______________1¶¶_1¶___¶¶1¶1¶111¶¶¶¶1_____________\n",
      "________________¶¶_¶¶__¶¶_11111¶¶¶¶_¶¶¶¶¶¶¶¶¶¶¶1__\n",
      "_________________¶¶¶¶¶¶¶¶¶¶11¶¶¶¶¶111¶¶¶¶¶¶¶¶¶1___\n",
      "___________________¶¶¶¶¶¶¶¶¶¶¶¶¶¶¶_______1¶¶______\n",
      "_____________________¶¶1¶¶¶¶¶¶¶¶¶_________________\n",
      "____________________¶¶____1¶¶____1________________\n",
      "____________________¶___________¶¶¶_______________\n",
      "___________________¶¶________¶1_1_¶¶______________\n",
      "___________________1¶_______¶¶_____¶¶_____________\n",
      "____________________¶¶¶¶¶¶11¶__¶¶¶¶¶¶_____________\n",
      "____________________¶¶____¶¶_¶¶_____¶¶____________\n",
      "____________________¶¶____¶¶__¶¶____¶¶____________\n",
      "____1_______________1¶___¶¶____¶¶____¶1___________\n",
      "__¶¶¶¶¶¶¶¶¶¶¶¶¶¶¶¶¶¶1¶1__¶¶_____¶1___¶¶___________\n",
      "__¶¶__¶¶¶¶¶¶¶¶¶1¶¶¶¶¶¶¶__¶¶_____1¶1__¶¶___________\n",
      "_¶¶¶_¶¶1¶¶¶¶¶¶¶¶¶¶¶¶1____¶¶______¶___¶¶___________\n",
      "¶¶¶¶¶¶________11¶¶¶¶¶¶¶¶¶¶_____1¶¶¶¶¶¶____________\n",
      "¶1¶1__________________11______¶¶¶¶¶¶¶¶____________\n",
      "¶¶____________________________¶¶¶¶¶¶¶_____________\n",
      "______________________________¶¶¶¶¶¶______________\n",
      "______________________________¶¶¶¶¶¶______________\n",
      "______________________________¶¶¶¶¶_____¶¶¶¶¶¶¶¶__\n",
      "______________________________¶¶¶¶¶___¶¶¶11__1¶¶¶_\n",
      "______________________________¶¶¶¶¶___¶¶__11¶¶¶1¶¶\n",
      "_____________________________¶¶¶¶1¶¶1_¶1_11111¶¶¶¶\n",
      "_____________________________¶____¶¶¶1¶¶¶_111¶¶¶¶_\n",
      "_____________________________¶_11¶¶¶111¶¶¶¶¶¶¶¶1__\n",
      "  "
     ]
    }
   ],
   "source": [
    "#Let's load the MeSsI package\n",
    "library('MeSsI')"
   ]
  },
  {
   "cell_type": "code",
   "execution_count": 4,
   "metadata": {},
   "outputs": [
    {
     "name": "stdout",
     "output_type": "stream",
     "text": [
      "'data.frame':\t63066 obs. of  27 variables:\n",
      " $ ngroup     : int  8889819 8889819 8889819 8889819 8889819 8889819 8889819 8889819 8889819 8889819 ...\n",
      " $ ra         : num  234 234 234 234 234 ...\n",
      " $ dec        : num  13.9 13.9 13.9 13.9 13.8 ...\n",
      " $ z          : num  0.0248 0.0227 0.0246 0.0257 0.025 ...\n",
      " $ mag        : num  17.4 16.6 17.6 17.4 17 ...\n",
      " $ color      : num  0.744 0.73 0.717 0.734 0.782 ...\n",
      " $ delta      : num  0.884 0.952 1.26 1.47 2.832 ...\n",
      " $ delta2     : num  0.884 0.952 1.26 1.47 2.832 ...\n",
      " $ sw_gal     : num  0.594 0.956 0.323 0.502 0.176 ...\n",
      " $ sf_gal     : num  0.8058 0.7983 0.3628 0.608 0.0947 ...\n",
      " $ ad_gal     : num  0.793 0.825 0.253 0.543 0.151 ...\n",
      " $ cvm_gal    : num  0.901 0.824 0.247 0.674 0.153 ...\n",
      " $ lillie_gal : num  0.936 0.866 0.222 0.556 0.104 ...\n",
      " $ pearson_gal: num  0.849 0.221 0.221 0.221 0.221 ...\n",
      " $ Delta      : num  1.68 1.68 1.68 1.68 1.68 ...\n",
      " $ pval_ds    : num  0 0 0 0 0 0 0 0 0 0 ...\n",
      " $ ngal       : int  118 118 118 118 118 118 118 118 118 118 ...\n",
      " $ sw_cum     : num  0.217 0.217 0.217 0.217 0.217 ...\n",
      " $ sf_cum     : num  0.255 0.255 0.255 0.255 0.255 ...\n",
      " $ ad_cum     : num  0.0741 0.0741 0.0741 0.0741 0.0741 ...\n",
      " $ cvm_cum    : num  0.049 0.049 0.049 0.049 0.049 ...\n",
      " $ lillie_cum : num  0.0229 0.0229 0.0229 0.0229 0.0229 ...\n",
      " $ pearson_cum: num  0.211 0.211 0.211 0.211 0.211 ...\n",
      " $ col_cum    : num  0.695 0.695 0.695 0.695 0.695 ...\n",
      " $ mag_cum    : num  14.6 14.6 14.6 14.6 14.6 ...\n",
      " $ ind_cum    : int  2 2 2 2 2 2 2 2 2 2 ...\n",
      " $ class      : int  1 1 1 1 1 1 1 1 1 1 ...\n"
     ]
    }
   ],
   "source": [
    "# Let's load the dataset that will be used to train the ML model\n",
    "data(GalaxiesTrainingset)\n",
    "str(GalaxiesTrainingset)"
   ]
  },
  {
   "cell_type": "code",
   "execution_count": 5,
   "metadata": {},
   "outputs": [
    {
     "name": "stdout",
     "output_type": "stream",
     "text": [
      "'data.frame':\t63066 obs. of  6 variables:\n",
      " $ id   : int  8889819 8889819 8889819 8889819 8889819 8889819 8889819 8889819 8889819 8889819 ...\n",
      " $ ra   : num  234 234 234 234 234 ...\n",
      " $ dec  : num  13.9 13.9 13.9 13.9 13.8 ...\n",
      " $ z    : num  0.0248 0.0227 0.0246 0.0257 0.025 ...\n",
      " $ mag  : num  17.4 16.6 17.6 17.4 17 ...\n",
      " $ color: num  0.744 0.73 0.717 0.734 0.782 ...\n"
     ]
    }
   ],
   "source": [
    "# As this dataset already contain some features, we will elimite them and kept only\n",
    "#   the observational information of the galaxies.\n",
    "\n",
    "data <- GalaxiesTrainingset[,(1:6)]\n",
    "colnames(data)[1] <- 'id' # The flag indicating to which cluster each galaxy belong must be named 'id'\n",
    "str(data)"
   ]
  },
  {
   "cell_type": "code",
   "execution_count": null,
   "metadata": {},
   "outputs": [
    {
     "name": "stderr",
     "output_type": "stream",
     "text": [
      "[====================================================>------------------]  74%"
     ]
    }
   ],
   "source": [
    "# Let's estimate the features that will be used by the classification\n",
    "\n",
    "ClustersData <- get_cluster_features(data, ntotal = 10000, name.groups = 'clustersOutput')"
   ]
  },
  {
   "cell_type": "code",
   "execution_count": null,
   "metadata": {},
   "outputs": [],
   "source": []
  }
 ],
 "metadata": {
  "kernelspec": {
   "display_name": "R",
   "language": "R",
   "name": "ir"
  },
  "language_info": {
   "codemirror_mode": "r",
   "file_extension": ".r",
   "mimetype": "text/x-r-source",
   "name": "R",
   "pygments_lexer": "r",
   "version": "3.6.1"
  }
 },
 "nbformat": 4,
 "nbformat_minor": 2
}
